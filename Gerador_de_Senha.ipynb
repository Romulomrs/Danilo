{
  "nbformat": 4,
  "nbformat_minor": 0,
  "metadata": {
    "colab": {
      "provenance": [],
      "authorship_tag": "ABX9TyOb1Y5bOAwf68OHtiahbhub",
      "include_colab_link": true
    },
    "kernelspec": {
      "name": "python3",
      "display_name": "Python 3"
    },
    "language_info": {
      "name": "python"
    }
  },
  "cells": [
    {
      "cell_type": "markdown",
      "metadata": {
        "id": "view-in-github",
        "colab_type": "text"
      },
      "source": [
        "<a href=\"https://colab.research.google.com/github/Romulomrs/bases/blob/main/Gerador_de_Senha.ipynb\" target=\"_parent\"><img src=\"https://colab.research.google.com/assets/colab-badge.svg\" alt=\"Open In Colab\"/></a>"
      ]
    },
    {
      "cell_type": "code",
      "execution_count": 15,
      "metadata": {
        "colab": {
          "base_uri": "https://localhost:8080/"
        },
        "id": "7kqAJvyejPrB",
        "outputId": "93070da2-ab1b-4df2-d4cc-c6ffa42e4e70"
      },
      "outputs": [
        {
          "output_type": "stream",
          "name": "stdout",
          "text": [
            "Quantos dígitos você quer na sua senha? 9\n",
            "A senha aleatória é:  ER;}Ng=Yt\n"
          ]
        }
      ],
      "source": [
        "from random import choice\n",
        "import string\n",
        "\n",
        "\n",
        "quantidade_caracteres = int(input(\"Quantos dígitos você quer na sua senha? \"))\n",
        "caracteres = string.digits + string.ascii_letters + string.punctuation\n",
        "senha_gerada= \"\"\n",
        "for i in range(quantidade_caracteres):\n",
        "  senha_gerada += choice(caracteres)\n",
        "\n",
        "print(\"A senha aleatória é: \",senha_gerada)"
      ]
    }
  ]
}