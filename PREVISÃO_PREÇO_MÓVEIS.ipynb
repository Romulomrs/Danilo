{
  "nbformat": 4,
  "nbformat_minor": 0,
  "metadata": {
    "colab": {
      "provenance": [],
      "authorship_tag": "ABX9TyPkm3Qyryqu39XawYQtTuey",
      "include_colab_link": true
    },
    "kernelspec": {
      "name": "python3",
      "display_name": "Python 3"
    },
    "language_info": {
      "name": "python"
    }
  },
  "cells": [
    {
      "cell_type": "markdown",
      "metadata": {
        "id": "view-in-github",
        "colab_type": "text"
      },
      "source": [
        "<a href=\"https://colab.research.google.com/github/Romulomrs/bases/blob/main/PREVIS%C3%83O_PRE%C3%87O_M%C3%93VEIS.ipynb\" target=\"_parent\"><img src=\"https://colab.research.google.com/assets/colab-badge.svg\" alt=\"Open In Colab\"/></a>"
      ]
    },
    {
      "cell_type": "code",
      "execution_count": 15,
      "metadata": {
        "colab": {
          "base_uri": "https://localhost:8080/"
        },
        "id": "tAhEsveapE-Y",
        "outputId": "7915369e-1eff-427f-bab3-55e4123aa462"
      },
      "outputs": [
        {
          "output_type": "execute_result",
          "data": {
            "text/plain": [
              "0    1.059034e+06\n",
              "1    1.505891e+06\n",
              "2    1.058988e+06\n",
              "3    1.260617e+06\n",
              "4    6.309435e+05\n",
              "Name: Price, dtype: float64"
            ]
          },
          "metadata": {},
          "execution_count": 15
        }
      ],
      "source": [
        "import pandas as pd\n",
        "import numpy as np\n",
        "import matplotlib.pyplot as plt\n",
        "\n",
        "# Lendo o arquivo USA_Housing.csv.\n",
        "df = pd.read_csv('USA_Housing.csv')\n",
        "\n",
        "\n",
        "# Exibindo as colunas do dataframe\n",
        "df.columns\n",
        "\n",
        "# Verificando os 5 primeiros registros (linhas) do dataframe\n",
        "df.head()\n",
        "\n",
        "\n",
        "# Excluir a coluna endereço\n",
        "df.drop('Address',axis=1,inplace=True)\n",
        "\n",
        "X = df[['Avg. Area Income', 'Avg. Area House Age', 'Avg. Area Number of Rooms','Avg. Area Number of Bedrooms', 'Area Population']]\n",
        "y = df['Price']\n",
        "X.head()\n",
        "y.head()\n",
        "\n"
      ]
    },
    {
      "cell_type": "code",
      "source": [
        "from sklearn.model_selection import train_test_split\n",
        "from sklearn.linear_model import LinearRegression\n",
        "\n",
        "X_train, X_test, y_train, y_test = train_test_split(X, y, test_size=0.3, random_state=50)\n",
        "\n",
        "# modelo preditor\n",
        "modelopreditor = LinearRegression()\n",
        "\n",
        "\n",
        "# Aqui ocorre o aprendizado\n",
        "modelopreditor.fit(X_train,y_train)\n",
        "\n",
        "\n",
        "# Imprimindo os coeficientes com os nomes das colunas\n",
        "coeff = pd.DataFrame(modelopreditor.coef_,X.columns,columns=['Coeficiente'])\n",
        "print(coeff)\n"
      ],
      "metadata": {
        "colab": {
          "base_uri": "https://localhost:8080/"
        },
        "id": "fp66AP6Qr-_l",
        "outputId": "8f818d02-f513-4919-cc37-f646001cc989"
      },
      "execution_count": 17,
      "outputs": [
        {
          "output_type": "stream",
          "name": "stdout",
          "text": [
            "                                Coeficiente\n",
            "Avg. Area Income                  21.525435\n",
            "Avg. Area House Age           166415.114396\n",
            "Avg. Area Number of Rooms     119802.717039\n",
            "Avg. Area Number of Bedrooms    1783.166098\n",
            "Area Population                   15.387540\n"
          ]
        }
      ]
    },
    {
      "cell_type": "code",
      "source": [
        "# fazendo predições com os dados de teste\n",
        "predictions = modelopreditor.predict(X_test)\n",
        "\n",
        "\n",
        "# imprimindo as primeiras variáveis preditoras\n",
        "X_test.head()\n",
        "\n",
        "\n",
        "# Predições realizadas\n",
        "predictions\n",
        "\n",
        "\n",
        "# Valores reais para acertar\n",
        "y_test.head()"
      ],
      "metadata": {
        "colab": {
          "base_uri": "https://localhost:8080/"
        },
        "id": "TjvE_BQtswsT",
        "outputId": "2b6ce73a-c071-405a-d8f2-32d1f66984a0"
      },
      "execution_count": 13,
      "outputs": [
        {
          "output_type": "execute_result",
          "data": {
            "text/plain": [
              "3431    6.129387e+05\n",
              "2042    1.347083e+06\n",
              "79      1.492011e+06\n",
              "4663    1.223915e+06\n",
              "3640    1.368692e+06\n",
              "Name: Price, dtype: float64"
            ]
          },
          "metadata": {},
          "execution_count": 13
        }
      ]
    },
    {
      "cell_type": "code",
      "source": [
        "from sklearn import metrics\n",
        "print('MAE:', metrics.mean_absolute_error(y_test, predictions))\n",
        "print('MSE:', metrics.mean_squared_error(y_test, predictions))\n",
        "print('RMSE:', np.sqrt(metrics.mean_squared_error(y_test, predictions)))"
      ],
      "metadata": {
        "colab": {
          "base_uri": "https://localhost:8080/"
        },
        "id": "sHGk26hysrR5",
        "outputId": "d6ddfddd-9a46-4fcd-d8dd-04895dc3feda"
      },
      "execution_count": 12,
      "outputs": [
        {
          "output_type": "stream",
          "name": "stdout",
          "text": [
            "MAE: 80728.93384538879\n",
            "MSE: 10077066685.864893\n",
            "RMSE: 100384.59386711137\n"
          ]
        }
      ]
    }
  ]
}