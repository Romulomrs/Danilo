{
  "nbformat": 4,
  "nbformat_minor": 0,
  "metadata": {
    "colab": {
      "provenance": [],
      "authorship_tag": "ABX9TyNXgj4BY3q/zSM1fcvbjz43",
      "include_colab_link": true
    },
    "kernelspec": {
      "name": "python3",
      "display_name": "Python 3"
    },
    "language_info": {
      "name": "python"
    }
  },
  "cells": [
    {
      "cell_type": "markdown",
      "metadata": {
        "id": "view-in-github",
        "colab_type": "text"
      },
      "source": [
        "<a href=\"https://colab.research.google.com/github/Romulomrs/bases/blob/main/Naive_Bayes.ipynb\" target=\"_parent\"><img src=\"https://colab.research.google.com/assets/colab-badge.svg\" alt=\"Open In Colab\"/></a>"
      ]
    },
    {
      "cell_type": "code",
      "execution_count": null,
      "metadata": {
        "id": "hWi4h8bemJIP"
      },
      "outputs": [],
      "source": [
        "# Criar um dataset\n",
        "# Primeira Característica\n",
        "clima=['Ensolarado', 'Ensolarado', 'Nublado', 'Chuvoso', 'Chuvoso', 'Chuvoso', 'Nublado',\n",
        "'Ensolarado', 'Ensolarado', 'Chuvoso', 'Ensolarado', 'Nublado', 'Nublado', 'Chuvoso']\n",
        "\n",
        "# Segunda Característica\n",
        "temp=['Quente', 'Quente', 'Quente', 'Suave', 'Legal', 'Legal', 'Legal', 'Suave',\n",
        "'Legal', 'Suave', 'Suave', 'Suave', 'Quente', 'Suave']\n",
        "\n",
        "# Variavel alvo\n",
        "brincar=['Não','Não','Sim','Sim','Sim','Não','Sim','Não','Sim','Sim','Sim','Sim','Sim','Não']\n",
        "\n",
        "# Importando LabelEncoder\n",
        "from sklearn import preprocessing\n",
        "#criando labelEncoder\n",
        "le = preprocessing.LabelEncoder()\n",
        "\n",
        "# Convertendo string labels para numeros.\n",
        "clima_encoded = le.fit_transform(clima)\n",
        "temp_encoded = le.fit_transform(temp)\n",
        "print(clima_encoded)\n",
        "print(temp_encoded)\n",
        "\n",
        "# convertendo string labels para numeros\n",
        "alvo = le.fit_transform(brincar)\n",
        "print(alvo)\n",
        "\n",
        "# Combinando clima e temp em um unica lista de tuplas\n",
        "carac=list(zip(clima_encoded,temp_encoded))\n",
        "carac\n",
        "\n",
        "#Importa a biblioteca do modelo Naive Bayes Gaussiano\n",
        "from sklearn.naive_bayes import GaussianNB\n",
        "\n",
        "\n",
        "#Cria um classificador Gaussiano\n",
        "modelo = GaussianNB()\n",
        "\n",
        "\n",
        "# Treinando o modelo usando os ajustes de treinamento.\n",
        "modelo.fit(carac,alvo)\n",
        "\n",
        "\n",
        "#Predito\n",
        "predito = modelo.predict([[2,2]]) # 2:Nublado, 2:Suave\n",
        "print(predito)\n",
        "\n",
        "\n"
      ]
    },
    {
      "cell_type": "code",
      "source": [
        "# bibliotecas\n",
        "from sklearn.datasets import load_iris\n",
        "from sklearn.model_selection import train_test_split\n",
        "# dataset\n",
        "iris = load_iris()\n",
        "print(iris)\n",
        "\n",
        "# caracteristicas e alvo\n",
        "X = iris.data\n",
        "y = iris.target\n",
        "\n",
        "\n",
        "# treino e teste\n",
        "(X_train, X_test, y_train, y_test) = train_test_split(X,y)\n",
        "\n",
        "# Modelo 1 classificador Gaussiano\n",
        "from sklearn.naive_bayes import GaussianNB\n",
        "\n",
        "\n",
        "\n"
      ],
      "metadata": {
        "id": "uJ1ySvS8xewz"
      },
      "execution_count": null,
      "outputs": []
    },
    {
      "cell_type": "code",
      "source": [
        "# instanciando o modelo\n",
        "modelo1 = GaussianNB()\n",
        "# treinando o modelo utilizando o conjunto de treino\n",
        "modelo1.fit(X_train,y_train)\n",
        "# validando o modelo utilizando o conjunto de teste\n",
        "precisao1 = str(round(modelo1.score(X_test,y_test) * 100, 2))+\"%\"\n",
        "# imprimindo o resultado\n",
        "print(\"A acurácia do modelo 1 foi\",precisao1)"
      ],
      "metadata": {
        "colab": {
          "base_uri": "https://localhost:8080/"
        },
        "id": "TLlcwB7U92mc",
        "outputId": "d5a2b31b-06d6-4343-f577-1581ab943bd3"
      },
      "execution_count": 10,
      "outputs": [
        {
          "output_type": "stream",
          "name": "stdout",
          "text": [
            "A acurácia do modelo 1 foi 94.74%\n"
          ]
        }
      ]
    },
    {
      "cell_type": "code",
      "source": [
        "# Modelo 2 classificador Multinomial\n",
        "from sklearn.naive_bayes import MultinomialNB\n",
        "\n",
        "\n",
        "# instanciando o modelo\n",
        "modelo2 = MultinomialNB()\n",
        "# treinando o modelo utilizando o conjunto de treino\n",
        "modelo2.fit(X_train,y_train)\n",
        "# validando o modelo utilizando o conjunto de teste\n",
        "precisao2 = str(round(modelo2.score(X_test,y_test) * 100, 2))+\"%\"\n",
        "# imprimindo o resultado\n",
        "print(\"A acurácia do modelo 2 foi\",precisao2)\n"
      ],
      "metadata": {
        "colab": {
          "base_uri": "https://localhost:8080/"
        },
        "id": "5rD5qf93-jdZ",
        "outputId": "d35c4a5e-9b30-4a5e-f4b7-8d360cb1d684"
      },
      "execution_count": 15,
      "outputs": [
        {
          "output_type": "stream",
          "name": "stdout",
          "text": [
            "A acurácia do modelo 2 foi 57.89%\n"
          ]
        }
      ]
    },
    {
      "cell_type": "code",
      "source": [
        "\n",
        "\n",
        "# Modelo 3 classificador Bernoulli\n",
        "from sklearn.naive_bayes import BernoulliNB\n",
        "\n",
        "\n",
        "# instanciando o modelo\n",
        "modelo3 = BernoulliNB()\n",
        "# treinando o modelo utilizando o conjunto de treino\n",
        "modelo3.fit(X_train,y_train)\n",
        "# validando o modelo utilizando o conjunto de teste\n",
        "precisao3 = str(round(modelo3.score(X_test,y_test) * 100, 2))+\"%\"\n",
        "# imprimindo o resultado\n",
        "print(\"A acurácia do modelo 3 foi\",precisao3)"
      ],
      "metadata": {
        "colab": {
          "base_uri": "https://localhost:8080/"
        },
        "id": "EJRcvzhmAWiI",
        "outputId": "700916f7-d744-4fca-dabe-1e82ed2cd30c"
      },
      "execution_count": 16,
      "outputs": [
        {
          "output_type": "stream",
          "name": "stdout",
          "text": [
            "A acurácia do modelo 3 foi 26.32%\n"
          ]
        }
      ]
    },
    {
      "cell_type": "code",
      "source": [
        "print(\"A acurácia do modelo 3 foi\",precisao1)\n",
        "print(\"A acurácia do modelo 3 foi\",precisao2)\n",
        "print(\"A acurácia do modelo 3 foi\",precisao3)\n"
      ],
      "metadata": {
        "colab": {
          "base_uri": "https://localhost:8080/"
        },
        "id": "EWqYJRgnBoaw",
        "outputId": "63e7bbb3-08bf-4e78-d7b4-fd496258b0e8"
      },
      "execution_count": 17,
      "outputs": [
        {
          "output_type": "stream",
          "name": "stdout",
          "text": [
            "A acurácia do modelo 3 foi 94.74%\n",
            "A acurácia do modelo 3 foi 57.89%\n",
            "A acurácia do modelo 3 foi 26.32%\n"
          ]
        }
      ]
    },
    {
      "cell_type": "code",
      "source": [
        "\n",
        "# bibliotecas\n",
        "import numpy as np\n",
        "from sklearn.datasets import load_wine\n",
        "from sklearn.model_selection import train_test_split\n",
        "\n",
        "\n",
        "# remover warnings\n",
        "import warnings\n",
        "warnings.filterwarnings(\"ignore\")\n",
        "\n",
        "\n",
        "# dataset\n",
        "vinho = load_wine()\n",
        "\n",
        "\n",
        "# caracteristicas e alvo\n",
        "X = vinho.data\n",
        "y = vinho.target\n",
        "\n",
        "\n",
        "# treino e teste\n",
        "(X_train, X_test, y_train, y_test) = train_test_split(X,y)\n",
        "\n",
        "\n",
        "#Importa a biblioteca do modelo KNN\n",
        "\n",
        "\n",
        "from sklearn.neighbors import KNeighborsClassifier\n",
        "# instanciando o modelo\n",
        "modeloKNN = KNeighborsClassifier()\n",
        "# treinando o modelo utilizando o conjunto de treino\n",
        "modeloKNN.fit(X_train,y_train)\n",
        "# validando o modelo utilizando o conjunto de teste\n",
        "precisaoKNN = str(round(modeloKNN.score(X_test,y_test) * 100, 2))+\"%\"\n",
        "# imprimindo o resultado\n",
        "print(\"A acurácia do modelo k-NN foi\",precisaoKNN)\n",
        "# predizendo o teste\n",
        "y_pred = modeloKNN.predict(X_test)\n",
        "# comparando predição com o real\n",
        "from sklearn.metrics import classification_report\n",
        "print(classification_report(y_test, y_pred))\n"
      ],
      "metadata": {
        "colab": {
          "base_uri": "https://localhost:8080/"
        },
        "id": "dDwH0wUyCOUv",
        "outputId": "f5921ff0-d349-4dac-95b0-204aa6b19cd4"
      },
      "execution_count": 21,
      "outputs": [
        {
          "output_type": "stream",
          "name": "stdout",
          "text": [
            "A acurácia do modelo k-NN foi 71.11%\n",
            "              precision    recall  f1-score   support\n",
            "\n",
            "           0       0.90      1.00      0.95        19\n",
            "           1       0.56      0.71      0.63        14\n",
            "           2       0.50      0.25      0.33        12\n",
            "\n",
            "    accuracy                           0.71        45\n",
            "   macro avg       0.65      0.65      0.64        45\n",
            "weighted avg       0.69      0.71      0.68        45\n",
            "\n"
          ]
        }
      ]
    },
    {
      "cell_type": "code",
      "source": [
        "#Importa a biblioteca do modelo Naive Bayes Gaussiano\n",
        "\n",
        "from sklearn.naive_bayes import GaussianNB\n",
        "#Cria um classificador Gaussiano\n",
        "modeloNB = GaussianNB()\n",
        "# Treinando o modelo usando os ajustes de treinamento.\n",
        "modeloNB.fit(X_train,y_train)\n",
        "# validando o modelo utilizando o conjunto de teste\n",
        "precisaoNB = str(round(modeloNB.score(X_test,y_test) * 100, 2))+\"%\"\n",
        "# imprimindo o resultado\n",
        "print(\"A acurácia do modelo Naive Bayes foi\",precisaoNB)\n",
        "# predizendo o teste\n",
        "y_pred = modeloNB.predict(X_test)\n",
        "# comparando predição com o real\n",
        "from sklearn.metrics import classification_report\n",
        "print(classification_report(y_test, y_pred))"
      ],
      "metadata": {
        "colab": {
          "base_uri": "https://localhost:8080/"
        },
        "id": "94j5zTgTEw4m",
        "outputId": "d784fcc8-42ea-43f3-cfa9-70edccb2f6bc"
      },
      "execution_count": 22,
      "outputs": [
        {
          "output_type": "stream",
          "name": "stdout",
          "text": [
            "A acurácia do modelo Naive Bayes foi 100.0%\n",
            "              precision    recall  f1-score   support\n",
            "\n",
            "           0       1.00      1.00      1.00        19\n",
            "           1       1.00      1.00      1.00        14\n",
            "           2       1.00      1.00      1.00        12\n",
            "\n",
            "    accuracy                           1.00        45\n",
            "   macro avg       1.00      1.00      1.00        45\n",
            "weighted avg       1.00      1.00      1.00        45\n",
            "\n"
          ]
        }
      ]
    },
    {
      "cell_type": "code",
      "source": [
        "# normalizando\n",
        "from sklearn.preprocessing import Normalizer\n",
        "scaler = Normalizer()\n",
        "scaler.fit(X)\n",
        "X = scaler.transform(X)\n",
        "\n",
        "\n",
        "scoresKNN = []\n",
        "scoresNB = []\n",
        "for i in range(2000):\n",
        "    X_train, X_test, y_train, y_test = train_test_split(X,y)\n",
        "    modeloKNN = KNeighborsClassifier()\n",
        "    modeloKNN.fit(X_train,y_train)\n",
        "    precisaoKNN = modeloNB.score(X_test,y_test)\n",
        "    scoresKNN.append(precisaoKNN)\n",
        "    modeloNB = GaussianNB()\n",
        "    modeloNB.fit(X_train,y_train)\n",
        "    precisaoNB = modeloNB.score(X_test,y_test)\n",
        "    scoresNB.append(precisaoNB)\n",
        "\n",
        "print(\"Média do KNN: {:.2f}%\".format(np.mean(scoresKNN)*100))\n",
        "print(\"Desvio padrão do KNN: {:.2f}%\".format(np.std(scoresKNN)*100))\n",
        "\n",
        "\n",
        "print(\"Média do Naive Bayes: {:.2f}%\".format(np.mean(scoresNB)*100))\n",
        "print(\"Desvio padrão do Naive Bayes: {:.2f}%\".format(np.std(scoresNB)*100))\n",
        "\n",
        "\n",
        "import matplotlib.pyplot as plt\n",
        "import seaborn as sns\n",
        "\n",
        "\n",
        "sns.distplot(scoresKNN)\n",
        "plt.yticks([])\n",
        "plt.title(\"Acurácias do KNN\")\n",
        "plt.show()\n",
        "\n",
        "\n",
        "sns.distplot(scoresNB)\n",
        "plt.yticks([])\n",
        "plt.title(\"Acurácias do Naive Bayers\")\n",
        "plt.show()"
      ],
      "metadata": {
        "colab": {
          "base_uri": "https://localhost:8080/",
          "height": 962
        },
        "id": "xuox-7ThHFmN",
        "outputId": "a65709a1-68ff-40d5-a0ef-424525eee1a3"
      },
      "execution_count": 23,
      "outputs": [
        {
          "output_type": "stream",
          "name": "stdout",
          "text": [
            "Média do KNN: 90.20%\n",
            "Desvio padrão do KNN: 4.06%\n",
            "Média do Naive Bayes: 89.72%\n",
            "Desvio padrão do Naive Bayes: 4.15%\n"
          ]
        },
        {
          "output_type": "display_data",
          "data": {
            "text/plain": [
              "<Figure size 640x480 with 1 Axes>"
            ],
            "image/png": "[encoded data removed]"
          },
          "metadata": {}
        },
        {
          "output_type": "display_data",
          "data": {
            "text/plain": [
              "<Figure size 640x480 with 1 Axes>"
            ],
            "image/png": "[encoded data removed]"
          },
          "metadata": {}
        }
      ]
    }
  ]
}